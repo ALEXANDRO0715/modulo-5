{
  "nbformat": 4,
  "nbformat_minor": 0,
  "metadata": {
    "colab": {
      "provenance": []
    },
    "kernelspec": {
      "name": "python3",
      "display_name": "Python 3"
    },
    "language_info": {
      "name": "python"
    }
  },
  "cells": [
    {
      "cell_type": "code",
      "execution_count": 2,
      "metadata": {
        "colab": {
          "base_uri": "https://localhost:8080/"
        },
        "id": "fEHrIu2_FKRg",
        "outputId": "9a34bdd6-11ae-4d88-d7db-2a4e4fbbb486"
      },
      "outputs": [
        {
          "output_type": "stream",
          "name": "stdout",
          "text": [
            "conhecendo comando print\n",
            "8\n"
          ]
        }
      ],
      "source": [
        "print(\"conhecendo comando print\")\n",
        "x = 8\n",
        "print(x)"
      ]
    },
    {
      "cell_type": "code",
      "source": [
        "y =10\n",
        "soma = x +10\n",
        "print(soma)"
      ],
      "metadata": {
        "colab": {
          "base_uri": "https://localhost:8080/"
        },
        "id": "S_ev36yiHFIE",
        "outputId": "83c51e83-f0df-4e67-8e01-e3cf89ed290a"
      },
      "execution_count": 4,
      "outputs": [
        {
          "output_type": "stream",
          "name": "stdout",
          "text": [
            "18\n"
          ]
        }
      ]
    },
    {
      "cell_type": "code",
      "source": [
        "nome = \"Alexandro\"\n",
        "print(nome)"
      ],
      "metadata": {
        "colab": {
          "base_uri": "https://localhost:8080/"
        },
        "id": "lNLx5rVpIw3v",
        "outputId": "7173d440-4b66-4bb8-8d9c-d690f95ce403"
      },
      "execution_count": 9,
      "outputs": [
        {
          "output_type": "stream",
          "name": "stdout",
          "text": [
            "Alexandro\n"
          ]
        }
      ]
    },
    {
      "cell_type": "markdown",
      "source": [
        "**concatenação**"
      ],
      "metadata": {
        "id": "1wPCXX8cI64J"
      }
    },
    {
      "cell_type": "code",
      "source": [
        "x = 5\n",
        "print('o valor de x é',x)"
      ],
      "metadata": {
        "colab": {
          "base_uri": "https://localhost:8080/"
        },
        "id": "yOLhiuSXJAXS",
        "outputId": "00616d32-4641-4617-cca8-c79080bf9090"
      },
      "execution_count": 10,
      "outputs": [
        {
          "output_type": "stream",
          "name": "stdout",
          "text": [
            "o valor de x é 5\n"
          ]
        }
      ]
    },
    {
      "cell_type": "code",
      "source": [
        "print('o valor de x é',x, 'e o dobro é', x * 2)"
      ],
      "metadata": {
        "colab": {
          "base_uri": "https://localhost:8080/"
        },
        "id": "rI2NpsOmKoiO",
        "outputId": "bb2ba4c6-8048-4f68-c98e-0fd38db4cc94"
      },
      "execution_count": 15,
      "outputs": [
        {
          "output_type": "stream",
          "name": "stdout",
          "text": [
            "o valor de x é 5 e o dobro é 10\n"
          ]
        }
      ]
    },
    {
      "cell_type": "code",
      "source": [
        "print('eu,',nome,'tirei', x,'na prova de python')"
      ],
      "metadata": {
        "colab": {
          "base_uri": "https://localhost:8080/"
        },
        "id": "buUBfEsZMnQ_",
        "outputId": "25f542ca-6ad1-41ca-cbe6-57f4d0e00906"
      },
      "execution_count": 16,
      "outputs": [
        {
          "output_type": "stream",
          "name": "stdout",
          "text": [
            "eu, Alexandro tirei 5 na prova de python\n"
          ]
        }
      ]
    },
    {
      "cell_type": "code",
      "source": [
        "y=10; z = 20+x-y\n",
        "print('declarar varias variaveis na mesma linha:', y, z)"
      ],
      "metadata": {
        "colab": {
          "base_uri": "https://localhost:8080/"
        },
        "id": "sZLu0NvuNncJ",
        "outputId": "15117ba0-d767-4711-f5e0-6a896b9b3218"
      },
      "execution_count": 17,
      "outputs": [
        {
          "output_type": "stream",
          "name": "stdout",
          "text": [
            "declarar varias variaveis na mesma linha: 10 15\n"
          ]
        }
      ]
    },
    {
      "cell_type": "markdown",
      "source": [
        "**TYPE**"
      ],
      "metadata": {
        "id": "WD2KQcZDTdur"
      }
    },
    {
      "cell_type": "code",
      "source": [
        "X =10\n",
        "type(X)\n",
        "print('x', type(x))\n",
        "\n",
        "nomme ='alexandro'\n",
        "print('nome', type('nome'))\n",
        "num='100'\n",
        "num_convert = int(num) #conveter variavel\n",
        "print('num', type(num))\n",
        "print('num_convet', type(num_convert))\n",
        "num_float = float(num)\n",
        "print('num_float', num_float)"
      ],
      "metadata": {
        "colab": {
          "base_uri": "https://localhost:8080/"
        },
        "id": "n6JpMMvgTkDn",
        "outputId": "6959892e-eab8-4e9a-bc62-102ea0213581"
      },
      "execution_count": 19,
      "outputs": [
        {
          "output_type": "stream",
          "name": "stdout",
          "text": [
            "x <class 'int'>\n",
            "nome <class 'str'>\n",
            "num <class 'str'>\n",
            "num_convet <class 'int'>\n",
            "num_float 100.0\n"
          ]
        }
      ]
    },
    {
      "cell_type": "markdown",
      "source": [
        "**INPUT**"
      ],
      "metadata": {
        "id": "LPJldPkaWpjn"
      }
    },
    {
      "cell_type": "markdown",
      "source": [
        "* ARMAZENAR A INFORMAÇÃO DIGITADA PELO USUARIO EM UMA VARIAVEL\n"
      ],
      "metadata": {
        "id": "ccCSVC3yWy8F"
      }
    },
    {
      "cell_type": "markdown",
      "source": [
        "* O DADO ARMAZENADO SEMPRE SERA UM TEXTO"
      ],
      "metadata": {
        "id": "nrllsHTuXc2f"
      }
    },
    {
      "cell_type": "code",
      "source": [
        "nome = input(\"digite o nome do usuario\") # aguardar o usuario digitar algo\n",
        "print(nome)"
      ],
      "metadata": {
        "colab": {
          "base_uri": "https://localhost:8080/"
        },
        "id": "55QO5CqTWbjj",
        "outputId": "8728289a-348f-4b01-e0a5-f67dbf0eeb09"
      },
      "execution_count": 20,
      "outputs": [
        {
          "output_type": "stream",
          "name": "stdout",
          "text": [
            "digite o nome do usuarioAlexandro\n",
            "Alexandro\n"
          ]
        }
      ]
    },
    {
      "cell_type": "code",
      "source": [
        "valor = input('digite uma nota ')\n",
        "print(nome, 'sua nota foi', valor)\n"
      ],
      "metadata": {
        "colab": {
          "base_uri": "https://localhost:8080/"
        },
        "id": "rgq91T2EYqm2",
        "outputId": "b89577ed-1eb4-4b9d-ae33-7fbbb562c4c4"
      },
      "execution_count": 26,
      "outputs": [
        {
          "output_type": "stream",
          "name": "stdout",
          "text": [
            "digite uma nota 10\n",
            "Alexandro sua nota foi 10\n"
          ]
        }
      ]
    },
    {
      "cell_type": "code",
      "source": [
        "valor = input('digite o valor do produto ')\n",
        "print(valor)"
      ],
      "metadata": {
        "colab": {
          "base_uri": "https://localhost:8080/"
        },
        "id": "adqFhj2aZe7W",
        "outputId": "713c1151-0ee9-4685-cef5-cd0e94400b9c"
      },
      "execution_count": 33,
      "outputs": [
        {
          "output_type": "stream",
          "name": "stdout",
          "text": [
            "digite o valor do produto 100\n",
            "100\n"
          ]
        }
      ]
    },
    {
      "cell_type": "code",
      "source": [
        "valor_convert = int(valor)\n",
        "desconto = valor_convert - 5\n",
        "print(desconto)"
      ],
      "metadata": {
        "colab": {
          "base_uri": "https://localhost:8080/"
        },
        "id": "gT1VhjlpcDEn",
        "outputId": "9595f85f-6c7c-4788-aa64-95a4a63b4996"
      },
      "execution_count": 34,
      "outputs": [
        {
          "output_type": "stream",
          "name": "stdout",
          "text": [
            "95\n"
          ]
        }
      ]
    },
    {
      "cell_type": "code",
      "source": [
        "desconto = int(valor) - 5\n",
        "print(desconto)\n"
      ],
      "metadata": {
        "colab": {
          "base_uri": "https://localhost:8080/"
        },
        "id": "4ijyX4KOaXe-",
        "outputId": "0e53267c-f447-45ff-dfa7-46d85cfa3d0e"
      },
      "execution_count": 35,
      "outputs": [
        {
          "output_type": "stream",
          "name": "stdout",
          "text": [
            "95\n"
          ]
        }
      ]
    }
  ]
}