{
  "nbformat": 4,
  "nbformat_minor": 0,
  "metadata": {
    "colab": {
      "provenance": []
    },
    "kernelspec": {
      "name": "python3",
      "display_name": "Python 3"
    },
    "language_info": {
      "name": "python"
    }
  },
  "cells": [
    {
      "cell_type": "markdown",
      "source": [
        "condição"
      ],
      "metadata": {
        "id": "na75QhM9RgTQ"
      }
    },
    {
      "cell_type": "code",
      "execution_count": 2,
      "metadata": {
        "colab": {
          "base_uri": "https://localhost:8080/"
        },
        "id": "TmIc__d3Q1Hb",
        "outputId": "6b6f5042-6ca9-4abf-bd98-35aad1298ed5"
      },
      "outputs": [
        {
          "output_type": "stream",
          "name": "stdout",
          "text": [
            "verdade\n"
          ]
        }
      ],
      "source": [
        "# if\n",
        "if 5 < 10 :\n",
        "  print('verdade')"
      ]
    },
    {
      "cell_type": "code",
      "source": [
        "#if / else\n",
        "num1 =10\n",
        "num2 =5\n",
        "if num1 > num2:\n",
        "    print('o num1 é o maior numero')\n",
        "else:\n",
        "   print('o num2 é o maior numero')\n"
      ],
      "metadata": {
        "colab": {
          "base_uri": "https://localhost:8080/"
        },
        "id": "7WplyNMvRnIv",
        "outputId": "aeb88190-c09a-4263-c09b-574ba96bcdd5"
      },
      "execution_count": 3,
      "outputs": [
        {
          "output_type": "stream",
          "name": "stdout",
          "text": [
            "o num1 é o maior numero\n"
          ]
        }
      ]
    },
    {
      "cell_type": "code",
      "source": [
        "#if/else/ elif\n",
        "num1= 10\n",
        "num2= 10\n",
        "if num1 > num2:\n",
        "     print('o num1 é o maior nnumero')\n",
        "elif num1 < num2:\n",
        "    print('o num2 é o maior numero')\n",
        "else:\n",
        "    print('os dois são iguais')"
      ],
      "metadata": {
        "colab": {
          "base_uri": "https://localhost:8080/"
        },
        "id": "H5nhDSZFTL3Z",
        "outputId": "3ae9da0f-5bf2-4b96-db83-4d6d9ed0be73"
      },
      "execution_count": 4,
      "outputs": [
        {
          "output_type": "stream",
          "name": "stdout",
          "text": [
            "os dois são iguais\n"
          ]
        }
      ]
    },
    {
      "cell_type": "markdown",
      "source": [
        "**condicional com operadores logicos**\n"
      ],
      "metadata": {
        "id": "BcLn27WUVWD5"
      }
    },
    {
      "cell_type": "code",
      "source": [
        "num1 =10\n",
        "num2 =5\n",
        "num3 =2\n",
        "if (num1 > num2) and (num1 > num3):\n",
        "     print('o num1 é o maior numero')\n",
        "else:\n",
        "    print('o num1 não é o maior numero')"
      ],
      "metadata": {
        "colab": {
          "base_uri": "https://localhost:8080/"
        },
        "id": "Dvw9YzijVVVl",
        "outputId": "bc7fe695-7307-4fb2-b4d6-0ef6b431b6a5"
      },
      "execution_count": 5,
      "outputs": [
        {
          "output_type": "stream",
          "name": "stdout",
          "text": [
            "o num1 é o maior numero\n"
          ]
        }
      ]
    }
  ]
}