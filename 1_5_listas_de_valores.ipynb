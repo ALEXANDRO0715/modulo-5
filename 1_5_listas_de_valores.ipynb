{
  "nbformat": 4,
  "nbformat_minor": 0,
  "metadata": {
    "colab": {
      "provenance": []
    },
    "kernelspec": {
      "name": "python3",
      "display_name": "Python 3"
    },
    "language_info": {
      "name": "python"
    }
  },
  "cells": [
    {
      "cell_type": "code",
      "execution_count": 2,
      "metadata": {
        "colab": {
          "base_uri": "https://localhost:8080/"
        },
        "id": "hNXhZ8mZdLH6",
        "outputId": "62f34376-8c8d-483b-d8d9-bd79beac5fec"
      },
      "outputs": [
        {
          "output_type": "execute_result",
          "data": {
            "text/plain": [
              "[1, 2, 3, 4, 5]"
            ]
          },
          "metadata": {},
          "execution_count": 2
        }
      ],
      "source": [
        "#lista\n",
        "[1,2,3,4,5]\n",
        "\n"
      ]
    },
    {
      "cell_type": "code",
      "source": [
        "#tupla\n",
        "(1,2,3,4,5)"
      ],
      "metadata": {
        "colab": {
          "base_uri": "https://localhost:8080/"
        },
        "id": "YJMBcxT0fCMf",
        "outputId": "340a39ec-ae3b-4438-b36d-5ec0f13666b7"
      },
      "execution_count": 3,
      "outputs": [
        {
          "output_type": "execute_result",
          "data": {
            "text/plain": [
              "(1, 2, 3, 4, 5)"
            ]
          },
          "metadata": {},
          "execution_count": 3
        }
      ]
    },
    {
      "cell_type": "code",
      "source": [
        "#dicionario\n",
        "{1,2,3,4,5}"
      ],
      "metadata": {
        "colab": {
          "base_uri": "https://localhost:8080/"
        },
        "id": "r0GIdO55fJrb",
        "outputId": "9f814d57-1e3a-4504-fe3e-882d02a6e063"
      },
      "execution_count": 4,
      "outputs": [
        {
          "output_type": "execute_result",
          "data": {
            "text/plain": [
              "{1, 2, 3, 4, 5}"
            ]
          },
          "metadata": {},
          "execution_count": 4
        }
      ]
    },
    {
      "cell_type": "markdown",
      "source": [
        "**lista**"
      ],
      "metadata": {
        "id": "Fnrw6hLsefEB"
      }
    },
    {
      "cell_type": "code",
      "source": [
        "lista =[5,'Alexandro',8.9]"
      ],
      "metadata": {
        "id": "IX0Qtc6Kff4k"
      },
      "execution_count": 5,
      "outputs": []
    },
    {
      "cell_type": "code",
      "source": [
        "type(lista)"
      ],
      "metadata": {
        "colab": {
          "base_uri": "https://localhost:8080/"
        },
        "id": "BEwDMBR5gGto",
        "outputId": "44e7ddad-3f58-4c6c-a2f4-8c81150f0e8b"
      },
      "execution_count": 6,
      "outputs": [
        {
          "output_type": "execute_result",
          "data": {
            "text/plain": [
              "list"
            ]
          },
          "metadata": {},
          "execution_count": 6
        }
      ]
    },
    {
      "cell_type": "code",
      "source": [
        "lista.append(\"Alexandro\")#adiciona um elemento na lista\n"
      ],
      "metadata": {
        "id": "rIxPfR99gbzz"
      },
      "execution_count": 8,
      "outputs": []
    },
    {
      "cell_type": "code",
      "source": [
        "print(lista)\n",
        "print(lista[1])"
      ],
      "metadata": {
        "colab": {
          "base_uri": "https://localhost:8080/"
        },
        "id": "Pr8MdCRvg4aK",
        "outputId": "858f1100-e77c-4f87-b9cd-46fb884d08f7"
      },
      "execution_count": 7,
      "outputs": [
        {
          "output_type": "stream",
          "name": "stdout",
          "text": [
            "[5, 'Alexandro', 8.9]\n",
            "Alexandro\n"
          ]
        }
      ]
    },
    {
      "cell_type": "markdown",
      "source": [
        "**TUPLA**"
      ],
      "metadata": {
        "id": "WYYeln6WiAlu"
      }
    },
    {
      "cell_type": "code",
      "source": [
        "tupla = (5,'alexandro',8,9)\n",
        "type(tupla)"
      ],
      "metadata": {
        "colab": {
          "base_uri": "https://localhost:8080/"
        },
        "id": "LnXGnCjFh85C",
        "outputId": "dae68e47-e32b-4861-f6dc-b3fbcb32a109"
      },
      "execution_count": 9,
      "outputs": [
        {
          "output_type": "execute_result",
          "data": {
            "text/plain": [
              "tuple"
            ]
          },
          "metadata": {},
          "execution_count": 9
        }
      ]
    },
    {
      "cell_type": "code",
      "source": [
        "print(tupla)"
      ],
      "metadata": {
        "colab": {
          "base_uri": "https://localhost:8080/"
        },
        "id": "sfAPw4giibiy",
        "outputId": "12923faa-75d8-44d3-d13c-c6cd2fa92999"
      },
      "execution_count": 10,
      "outputs": [
        {
          "output_type": "stream",
          "name": "stdout",
          "text": [
            "(5, 'alexandro', 8, 9)\n"
          ]
        }
      ]
    },
    {
      "cell_type": "markdown",
      "source": [
        "**dicionario**\n"
      ],
      "metadata": {
        "id": "Lz81g1fuiuDC"
      }
    },
    {
      "cell_type": "code",
      "source": [
        "dicionario = {'nome':'Alexandro','cidade':'são joão do pato MA'}"
      ],
      "metadata": {
        "id": "Kr8syWfvizT9"
      },
      "execution_count": 11,
      "outputs": []
    },
    {
      "cell_type": "code",
      "source": [
        "type(dicionario)"
      ],
      "metadata": {
        "colab": {
          "base_uri": "https://localhost:8080/"
        },
        "id": "a_Is_HKAjnto",
        "outputId": "ba3bc850-866b-4c9b-e555-e0aa9dba77ca"
      },
      "execution_count": 12,
      "outputs": [
        {
          "output_type": "execute_result",
          "data": {
            "text/plain": [
              "dict"
            ]
          },
          "metadata": {},
          "execution_count": 12
        }
      ]
    },
    {
      "cell_type": "code",
      "source": [
        "print(dicionario)"
      ],
      "metadata": {
        "colab": {
          "base_uri": "https://localhost:8080/"
        },
        "id": "rCcXuhBQj2s-",
        "outputId": "054c78a8-a2bc-4c5b-9ffe-84c57b02dcfd"
      },
      "execution_count": 13,
      "outputs": [
        {
          "output_type": "stream",
          "name": "stdout",
          "text": [
            "{'nome': 'Alexandro', 'cidade': 'são joão do pato MA'}\n"
          ]
        }
      ]
    },
    {
      "cell_type": "code",
      "source": [
        "print(dicionario[\"nome\"])"
      ],
      "metadata": {
        "colab": {
          "base_uri": "https://localhost:8080/"
        },
        "id": "bu-BiBdMkBav",
        "outputId": "fc4df5e6-e23b-4790-d7ee-e6b9d32849c4"
      },
      "execution_count": 14,
      "outputs": [
        {
          "output_type": "stream",
          "name": "stdout",
          "text": [
            "Alexandro\n"
          ]
        }
      ]
    },
    {
      "cell_type": "code",
      "source": [
        "dicionario['ultimo_nome']= 'rodrigues'"
      ],
      "metadata": {
        "id": "sIx4o04ekXb9"
      },
      "execution_count": 15,
      "outputs": []
    },
    {
      "cell_type": "code",
      "source": [
        "print(dicionario)"
      ],
      "metadata": {
        "colab": {
          "base_uri": "https://localhost:8080/"
        },
        "id": "L1AEqKd_k03a",
        "outputId": "9faf0bec-2b53-4a69-9295-53dc9570c16f"
      },
      "execution_count": 16,
      "outputs": [
        {
          "output_type": "stream",
          "name": "stdout",
          "text": [
            "{'nome': 'Alexandro', 'cidade': 'são joão do pato MA', 'ultimo_nome': 'rodrigues'}\n"
          ]
        }
      ]
    }
  ]
}