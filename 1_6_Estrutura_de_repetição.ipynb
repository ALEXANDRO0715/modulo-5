{
  "nbformat": 4,
  "nbformat_minor": 0,
  "metadata": {
    "colab": {
      "provenance": []
    },
    "kernelspec": {
      "name": "python3",
      "display_name": "Python 3"
    },
    "language_info": {
      "name": "python"
    }
  },
  "cells": [
    {
      "cell_type": "markdown",
      "source": [
        "**ESTRUTURA DE REPETIÇÃO**"
      ],
      "metadata": {
        "id": "b2bYMZWpL4fS"
      }
    },
    {
      "cell_type": "markdown",
      "source": [
        "FOR"
      ],
      "metadata": {
        "id": "hJk4nbaiM8TO"
      }
    },
    {
      "cell_type": "code",
      "source": [
        "for contador in range(10):\n",
        "    print(contador)"
      ],
      "metadata": {
        "colab": {
          "base_uri": "https://localhost:8080/"
        },
        "id": "iOHoO3TiM6JJ",
        "outputId": "75d68292-1514-4294-86b8-a2200ccd5ff4"
      },
      "execution_count": 6,
      "outputs": [
        {
          "output_type": "stream",
          "name": "stdout",
          "text": [
            "0\n",
            "1\n",
            "2\n",
            "3\n",
            "4\n",
            "5\n",
            "6\n",
            "7\n",
            "8\n",
            "9\n"
          ]
        }
      ]
    },
    {
      "cell_type": "code",
      "source": [
        "#for range + break\n",
        "for contador in range(1000):\n",
        "    print(contador)\n",
        "    if contador ==2:\n",
        "       break"
      ],
      "metadata": {
        "colab": {
          "base_uri": "https://localhost:8080/"
        },
        "id": "Wuhvm9RqNc0g",
        "outputId": "739c4f4d-1852-4962-f6bf-9d7579435976"
      },
      "execution_count": 8,
      "outputs": [
        {
          "output_type": "stream",
          "name": "stdout",
          "text": [
            "0\n",
            "1\n",
            "2\n"
          ]
        }
      ]
    },
    {
      "cell_type": "code",
      "source": [
        "lista=[\"teste1\",\"teste2\"]"
      ],
      "metadata": {
        "id": "BrXG3pU9OsaK"
      },
      "execution_count": 9,
      "outputs": []
    },
    {
      "cell_type": "code",
      "source": [
        "#for simple\n",
        "for val in lista:\n",
        "     print(val)"
      ],
      "metadata": {
        "colab": {
          "base_uri": "https://localhost:8080/"
        },
        "id": "QrlFjMsNPQRq",
        "outputId": "34d246e4-c2aa-43c7-f25d-00b3e841c29e"
      },
      "execution_count": 10,
      "outputs": [
        {
          "output_type": "stream",
          "name": "stdout",
          "text": [
            "teste1\n",
            "teste2\n"
          ]
        }
      ]
    },
    {
      "cell_type": "code",
      "source": [
        "#for com enumerate\n",
        "for i, val in enumerate(lista):\n",
        "    print(i, val)"
      ],
      "metadata": {
        "colab": {
          "base_uri": "https://localhost:8080/"
        },
        "id": "Za5th_lbP57C",
        "outputId": "472c59d3-caf0-4f3b-ca34-53843fe41185"
      },
      "execution_count": 12,
      "outputs": [
        {
          "output_type": "stream",
          "name": "stdout",
          "text": [
            "0 teste1\n",
            "1 teste2\n"
          ]
        }
      ]
    },
    {
      "cell_type": "markdown",
      "source": [
        "FOR COM OPERADORE COMPOTOS"
      ],
      "metadata": {
        "id": "sy-9BwK5RseN"
      }
    },
    {
      "cell_type": "code",
      "source": [
        "lista2=[1,2,3]"
      ],
      "metadata": {
        "id": "rlnpYqJEQ96e"
      },
      "execution_count": 14,
      "outputs": []
    },
    {
      "cell_type": "code",
      "source": [
        "for val in lista2:\n",
        "    val +=1\n",
        "    print(val)"
      ],
      "metadata": {
        "colab": {
          "base_uri": "https://localhost:8080/"
        },
        "id": "ZWNUdHIOSH6U",
        "outputId": "9d246254-80b4-4e4c-e684-72f60bc94d82"
      },
      "execution_count": 15,
      "outputs": [
        {
          "output_type": "stream",
          "name": "stdout",
          "text": [
            "2\n",
            "3\n",
            "4\n"
          ]
        }
      ]
    },
    {
      "cell_type": "code",
      "source": [
        "for val in lista2:\n",
        "    val *=2\n",
        "    print(val)"
      ],
      "metadata": {
        "colab": {
          "base_uri": "https://localhost:8080/"
        },
        "id": "qfjEW90JS0BS",
        "outputId": "c87128ca-d25c-4623-fc67-58c5a051f0fb"
      },
      "execution_count": 17,
      "outputs": [
        {
          "output_type": "stream",
          "name": "stdout",
          "text": [
            "2\n",
            "4\n",
            "6\n"
          ]
        }
      ]
    },
    {
      "cell_type": "markdown",
      "source": [
        "**WHILE**\n"
      ],
      "metadata": {
        "id": "f87qQdMcTcIA"
      }
    },
    {
      "cell_type": "code",
      "source": [
        "val= 1\n",
        "while(val < 6):\n",
        "  val *= 2\n",
        "  print(val)"
      ],
      "metadata": {
        "colab": {
          "base_uri": "https://localhost:8080/"
        },
        "id": "UGVWCwv2TBCJ",
        "outputId": "f9ca72d3-5795-4c6a-b1e1-32ff31b53577"
      },
      "execution_count": 18,
      "outputs": [
        {
          "output_type": "stream",
          "name": "stdout",
          "text": [
            "2\n",
            "4\n",
            "8\n"
          ]
        }
      ]
    },
    {
      "cell_type": "code",
      "source": [
        "#while com else\n",
        "val= 10\n",
        "while(val < 6):\n",
        "  val *= 2\n",
        "else:\n",
        "    print('valor de val é:',val)"
      ],
      "metadata": {
        "colab": {
          "base_uri": "https://localhost:8080/"
        },
        "id": "M2X6KLENUTFe",
        "outputId": "defc3d7b-3c4e-4bd5-8229-d0d19ff01cbe"
      },
      "execution_count": 23,
      "outputs": [
        {
          "output_type": "stream",
          "name": "stdout",
          "text": [
            "valor de val é: 10\n"
          ]
        }
      ]
    }
  ]
}