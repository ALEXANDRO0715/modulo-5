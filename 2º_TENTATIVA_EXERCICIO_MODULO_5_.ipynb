{
  "nbformat": 4,
  "nbformat_minor": 0,
  "metadata": {
    "colab": {
      "provenance": []
    },
    "kernelspec": {
      "name": "python3",
      "display_name": "Python 3"
    },
    "language_info": {
      "name": "python"
    }
  },
  "cells": [
    {
      "cell_type": "code",
      "execution_count": 11,
      "metadata": {
        "colab": {
          "base_uri": "https://localhost:8080/"
        },
        "id": "4n15ZpRmblPO",
        "outputId": "cbb2964c-a2f0-43d2-b880-59b4a114886c"
      },
      "outputs": [
        {
          "name": "stdout",
          "output_type": "stream",
          "text": [
            " insira o primeiro numero 56\n",
            " insira o segundo numero 23\n",
            "qual operação deseja fazer?( 1 = soma, 2 = subtração, 3 = divisão e 4 = multiplicação)2\n",
            "resultado 33.0\n",
            "deseja fazer outra operção? (s/n)s\n",
            " insira o primeiro numero 30\n",
            " insira o segundo numero 2\n",
            "qual operação deseja fazer?( 1 = soma, 2 = subtração, 3 = divisão e 4 = multiplicação)3\n",
            "resultado 15.0\n",
            "deseja fazer outra operção? (s/n)n\n"
          ]
        }
      ],
      "source": [
        "\n",
        "while True:# equanto a etrutura for valida a repetição continuara\n",
        "    a = float(input(\" insira o primeiro numero \"))#primeiro numeros inserido pelo usuario\n",
        "    b = float(input(\" insira o segundo numero \"))# segudo numero iserido pelo usuario\n",
        "    c = input(\"qual operação deseja fazer?( 1 = soma, 2 = subtração, 3 = divisão e 4 = multiplicação)\" )\n",
        "\n",
        "    if c == '1':# estruturado a condição para as respecitvas operações informadas na variavel c\n",
        "        print(\"resultado\", a + b)\n",
        "    elif c == '2':\n",
        "       print(\"resultado\", a - b)\n",
        "    elif c == '3':\n",
        "        if b != 0:\n",
        "            print(\"resultado\", a / b)\n",
        "        else:\n",
        "            print(\"não se pode dividir por zero\")\n",
        "    elif c == '4':\n",
        "        print(\"resultado\", a * b)\n",
        "    else:\n",
        "        print(\"operação invalida\")\n",
        "    if input(\"deseja fazer outra operção? (s/n)\").lower() != 's': # aqui o usuario escolhe se quer continuar ou não fazendo operação\n",
        "        break\n",
        "\n",
        "\n"
      ]
    }
  ]
}