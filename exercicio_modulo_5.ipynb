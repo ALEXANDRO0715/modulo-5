{
  "nbformat": 4,
  "nbformat_minor": 0,
  "metadata": {
    "colab": {
      "provenance": []
    },
    "kernelspec": {
      "name": "python3",
      "display_name": "Python 3"
    },
    "language_info": {
      "name": "python"
    }
  },
  "cells": [
    {
      "cell_type": "code",
      "execution_count": 1,
      "metadata": {
        "colab": {
          "base_uri": "https://localhost:8080/"
        },
        "id": "ORQWpjcwGdVo",
        "outputId": "f2645dd3-ad27-414e-b438-ac1da27c0e15"
      },
      "outputs": [
        {
          "output_type": "stream",
          "name": "stdout",
          "text": [
            "A soma de 3 + 4 he igual a 7\n"
          ]
        }
      ],
      "source": [
        "def main():\n",
        "    a = 3\n",
        "    b = 4\n",
        "    soma = a + b\n",
        "    print(\"A soma de\", a, \"+\" ,b, \"he igual a\",soma)\n",
        "main()"
      ]
    },
    {
      "cell_type": "code",
      "source": [
        "def main():\n",
        "    a_str = input(\"digite o primeiro numero: \")\n",
        "    b_str = input(\"digite o segundo numero: \")\n",
        "    a_int = int(a_str)\n",
        "    b_int = int(b_str)\n",
        "    soma = a_int + b_int\n",
        "    print(\"A soma de\", a_int, \"+\" , b_int, \"he igual a\", soma)\n",
        "main()"
      ],
      "metadata": {
        "colab": {
          "base_uri": "https://localhost:8080/"
        },
        "id": "JCp32c8-GvPL",
        "outputId": "79aea6a8-1cae-4dd2-84ab-9904f3d44878"
      },
      "execution_count": 2,
      "outputs": [
        {
          "output_type": "stream",
          "name": "stdout",
          "text": [
            "digite o primeiro numero: 4\n",
            "digite o segundo numero: 6\n",
            "A soma de 4 + 6 he igual a 10\n"
          ]
        }
      ]
    },
    {
      "cell_type": "code",
      "source": [
        "def main():\n",
        "    a = int(input(\"digite o primeiro nnumero: \"))\n",
        "    b = int(input(\"digite o segundo numero: \"))\n",
        "    soma = a + b\n",
        "    print(\"A soma de\", a, \"+\", b, \"he igual a\", soma)\n",
        "main()"
      ],
      "metadata": {
        "colab": {
          "base_uri": "https://localhost:8080/"
        },
        "id": "HHs7EeqmG4Ue",
        "outputId": "52506bb6-7a4d-448d-b8d9-424da086065f"
      },
      "execution_count": 3,
      "outputs": [
        {
          "output_type": "stream",
          "name": "stdout",
          "text": [
            "digite o primeiro nnumero: 4\n",
            "digite o segundo numero: 8\n",
            "A soma de 4 + 8 he igual a 12\n"
          ]
        }
      ]
    },
    {
      "cell_type": "code",
      "source": [
        "def main():\n",
        "    a = int(input(\"digite o primeiro nnumero: \"))\n",
        "    b = int(input(\"digite o segundo numero: \"))\n",
        "    multiplicação = a * b\n",
        "    print(\"A multiplicação de\", a, \"*\", b, \"he igual a\", multiplicação)\n",
        "main()"
      ],
      "metadata": {
        "colab": {
          "base_uri": "https://localhost:8080/"
        },
        "id": "FXOk7GCKHJsd",
        "outputId": "b8bca7fd-e784-4412-9d96-d8dadfeda7e6"
      },
      "execution_count": 4,
      "outputs": [
        {
          "output_type": "stream",
          "name": "stdout",
          "text": [
            "digite o primeiro nnumero: 5\n",
            "digite o segundo numero: 9\n",
            "A multiplicação de 5 * 9 he igual a 45\n"
          ]
        }
      ]
    },
    {
      "cell_type": "code",
      "source": [
        "def main():\n",
        "    a = int(input(\"digite o primeiro nnumero: \"))\n",
        "    b = int(input(\"digite o segundo numero: \"))\n",
        "    divisão = a / b\n",
        "    print(\"A divisão de\", a, \"/\", b, \"he igual a\", divisão)\n",
        "main()"
      ],
      "metadata": {
        "colab": {
          "base_uri": "https://localhost:8080/"
        },
        "id": "7qGDWjpjHQle",
        "outputId": "56104d51-dc09-4b8b-ae54-ccefc849e086"
      },
      "execution_count": 5,
      "outputs": [
        {
          "output_type": "stream",
          "name": "stdout",
          "text": [
            "digite o primeiro nnumero: 56\n",
            "digite o segundo numero: 8\n",
            "A divisão de 56 / 8 he igual a 7.0\n"
          ]
        }
      ]
    },
    {
      "cell_type": "code",
      "source": [
        "def main():\n",
        "    a = int(input(\"digite o primeiro nnumero: \"))\n",
        "    b = int(input(\"digite o segundo numero: \"))\n",
        "    subtração = a - b\n",
        "    print(\"A subtração de\", a, \"-\", b, \"he igual a\", subtração)\n",
        "main()"
      ],
      "metadata": {
        "colab": {
          "base_uri": "https://localhost:8080/"
        },
        "id": "f-3zJx1THZyi",
        "outputId": "572870ca-a20f-42e5-a89e-54d03364cadc"
      },
      "execution_count": 8,
      "outputs": [
        {
          "output_type": "stream",
          "name": "stdout",
          "text": [
            "digite o primeiro nnumero: 56\n",
            "digite o segundo numero: 7\n",
            "A subtração de 56 - 7 he igual a 49\n"
          ]
        }
      ]
    },
    {
      "cell_type": "code",
      "source": [
        "def main():\n",
        "    a = int(input(\"digite o primeiro nnumero: \"))\n",
        "    b = int(input(\"digite o segundo numero: \"))\n",
        "    soma = a + b\n",
        "    print(\"A soma de\", a, \"+\", b, \"he igual a\", soma)\n",
        "    if a > b:\n",
        "       print('True')\n",
        "    if a < b:\n",
        "        print(False)\n",
        "main()"
      ],
      "metadata": {
        "colab": {
          "base_uri": "https://localhost:8080/"
        },
        "id": "xQL_QywgH5WG",
        "outputId": "205b4cab-44a4-4fee-c6f4-2e4f574f1598"
      },
      "execution_count": 9,
      "outputs": [
        {
          "output_type": "stream",
          "name": "stdout",
          "text": [
            "digite o primeiro nnumero: 34\n",
            "digite o segundo numero: 45\n",
            "A soma de 34 + 45 he igual a 79\n",
            "False\n"
          ]
        }
      ]
    }
  ]
}